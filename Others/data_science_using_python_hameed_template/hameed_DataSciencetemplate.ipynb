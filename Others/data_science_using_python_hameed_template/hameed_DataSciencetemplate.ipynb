{
 "cells": [
  {
   "cell_type": "markdown",
   "metadata": {},
   "source": [
    "# Table of Contents\n",
    "  * [Chapter 1](#chapter-1)\n",
    "  * [Chapter 2](#chapter-2)\n",
    "  * [Chapter 3](#chapter-3)\n",
    "will jump to these sections:\n",
    "\n",
    "## Chapter 1 <a id=\"chapter-1\"></a>\n",
    "Content for chapter one.\n",
    "\n",
    "## Chapter 2 <a id=\"chapter-2\"></a>\n",
    "Content for chapter one.\n",
    "\n",
    "## Chapter 3 <a id=\"chapter-3\"></a>\n",
    "Content for chapter one."
   ]
  },
  {
   "cell_type": "markdown",
   "metadata": {},
   "source": []
  }
 ],
 "metadata": {
  "interpreter": {
   "hash": "ecf5722fdaf1897a315d257d89d94520bfcaa453217d5becf09b39e73618b0de"
  },
  "kernelspec": {
   "display_name": "Python 3.9.5 64-bit ('base': conda)",
   "language": "python",
   "name": "python3"
  },
  "language_info": {
   "name": "python",
   "version": "3.10.0"
  },
  "orig_nbformat": 4
 },
 "nbformat": 4,
 "nbformat_minor": 2
}
